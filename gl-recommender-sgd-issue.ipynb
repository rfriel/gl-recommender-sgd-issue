{
 "cells": [
  {
   "cell_type": "code",
   "execution_count": 558,
   "metadata": {
    "collapsed": true
   },
   "outputs": [],
   "source": [
    "import graphlab as gl\n",
    "import numpy as np"
   ]
  },
  {
   "cell_type": "code",
   "execution_count": 559,
   "metadata": {
    "collapsed": true
   },
   "outputs": [],
   "source": [
    "# make some fake ratings that exactly match a 1-factor model\n",
    "\n",
    "u_vec = np.random.randn(8,1)\n",
    "i_vec = np.random.randn(1,8)\n",
    "\n",
    "ratings = u_vec.dot(i_vec)"
   ]
  },
  {
   "cell_type": "code",
   "execution_count": 561,
   "metadata": {
    "collapsed": true
   },
   "outputs": [],
   "source": [
    "# include about half of the full ratings matrix\n",
    "\n",
    "sf = gl.SFrame({'user_id': [j for i in range(8) for j in range(i)],\n",
    "                      'item_id': [i for i in range(8) for j in range(i)],\n",
    "                      'rating': [ratings[i,j] for i in range(8) for j in range(i)]})"
   ]
  },
  {
   "cell_type": "markdown",
   "metadata": {},
   "source": [
    "Regularization is negligible (setting it to 0 gets similar results).  2000 iterations gives us plenty of time, and the undocumented attribute \"sgd_convergence_threshold\" lets us not stop early."
   ]
  },
  {
   "cell_type": "code",
   "execution_count": 524,
   "metadata": {
    "scrolled": true
   },
   "outputs": [
    {
     "data": {
      "text/html": [
       "<pre>Recsys training: model = factorization_recommender</pre>"
      ],
      "text/plain": [
       "Recsys training: model = factorization_recommender"
      ]
     },
     "metadata": {},
     "output_type": "display_data"
    },
    {
     "data": {
      "text/html": [
       "<pre>Preparing data set.</pre>"
      ],
      "text/plain": [
       "Preparing data set."
      ]
     },
     "metadata": {},
     "output_type": "display_data"
    },
    {
     "data": {
      "text/html": [
       "<pre>    Data has 28 observations with 7 users and 7 items.</pre>"
      ],
      "text/plain": [
       "    Data has 28 observations with 7 users and 7 items."
      ]
     },
     "metadata": {},
     "output_type": "display_data"
    },
    {
     "data": {
      "text/html": [
       "<pre>    Data prepared in: 0.003223s</pre>"
      ],
      "text/plain": [
       "    Data prepared in: 0.003223s"
      ]
     },
     "metadata": {},
     "output_type": "display_data"
    },
    {
     "data": {
      "text/html": [
       "<pre>Training factorization_recommender for recommendations.</pre>"
      ],
      "text/plain": [
       "Training factorization_recommender for recommendations."
      ]
     },
     "metadata": {},
     "output_type": "display_data"
    },
    {
     "data": {
      "text/html": [
       "<pre>+--------------------------------+--------------------------------------------------+----------+</pre>"
      ],
      "text/plain": [
       "+--------------------------------+--------------------------------------------------+----------+"
      ]
     },
     "metadata": {},
     "output_type": "display_data"
    },
    {
     "data": {
      "text/html": [
       "<pre>| Parameter                      | Description                                      | Value    |</pre>"
      ],
      "text/plain": [
       "| Parameter                      | Description                                      | Value    |"
      ]
     },
     "metadata": {},
     "output_type": "display_data"
    },
    {
     "data": {
      "text/html": [
       "<pre>+--------------------------------+--------------------------------------------------+----------+</pre>"
      ],
      "text/plain": [
       "+--------------------------------+--------------------------------------------------+----------+"
      ]
     },
     "metadata": {},
     "output_type": "display_data"
    },
    {
     "data": {
      "text/html": [
       "<pre>| num_factors                    | Factor Dimension                                 | 1        |</pre>"
      ],
      "text/plain": [
       "| num_factors                    | Factor Dimension                                 | 1        |"
      ]
     },
     "metadata": {},
     "output_type": "display_data"
    },
    {
     "data": {
      "text/html": [
       "<pre>| regularization                 | L2 Regularization on Factors                     | 1e-12    |</pre>"
      ],
      "text/plain": [
       "| regularization                 | L2 Regularization on Factors                     | 1e-12    |"
      ]
     },
     "metadata": {},
     "output_type": "display_data"
    },
    {
     "data": {
      "text/html": [
       "<pre>| solver                         | Solver used for training                         | sgd      |</pre>"
      ],
      "text/plain": [
       "| solver                         | Solver used for training                         | sgd      |"
      ]
     },
     "metadata": {},
     "output_type": "display_data"
    },
    {
     "data": {
      "text/html": [
       "<pre>| linear_regularization          | L2 Regularization on Linear Coefficients         | 1e-12    |</pre>"
      ],
      "text/plain": [
       "| linear_regularization          | L2 Regularization on Linear Coefficients         | 1e-12    |"
      ]
     },
     "metadata": {},
     "output_type": "display_data"
    },
    {
     "data": {
      "text/html": [
       "<pre>| max_iterations                 | Maximum Number of Iterations                     | 2000     |</pre>"
      ],
      "text/plain": [
       "| max_iterations                 | Maximum Number of Iterations                     | 2000     |"
      ]
     },
     "metadata": {},
     "output_type": "display_data"
    },
    {
     "data": {
      "text/html": [
       "<pre>+--------------------------------+--------------------------------------------------+----------+</pre>"
      ],
      "text/plain": [
       "+--------------------------------+--------------------------------------------------+----------+"
      ]
     },
     "metadata": {},
     "output_type": "display_data"
    },
    {
     "data": {
      "text/html": [
       "<pre>  Optimizing model using SGD; tuning step size.</pre>"
      ],
      "text/plain": [
       "  Optimizing model using SGD; tuning step size."
      ]
     },
     "metadata": {},
     "output_type": "display_data"
    },
    {
     "data": {
      "text/html": [
       "<pre>  Using 28 / 28 points for tuning the step size.</pre>"
      ],
      "text/plain": [
       "  Using 28 / 28 points for tuning the step size."
      ]
     },
     "metadata": {},
     "output_type": "display_data"
    },
    {
     "data": {
      "text/html": [
       "<pre>+---------+-------------------+------------------------------------------+</pre>"
      ],
      "text/plain": [
       "+---------+-------------------+------------------------------------------+"
      ]
     },
     "metadata": {},
     "output_type": "display_data"
    },
    {
     "data": {
      "text/html": [
       "<pre>| Attempt | Initial Step Size | Estimated Objective Value                |</pre>"
      ],
      "text/plain": [
       "| Attempt | Initial Step Size | Estimated Objective Value                |"
      ]
     },
     "metadata": {},
     "output_type": "display_data"
    },
    {
     "data": {
      "text/html": [
       "<pre>+---------+-------------------+------------------------------------------+</pre>"
      ],
      "text/plain": [
       "+---------+-------------------+------------------------------------------+"
      ]
     },
     "metadata": {},
     "output_type": "display_data"
    },
    {
     "data": {
      "text/html": [
       "<pre>| 0       | 25                | No Decrease (7.99185 >= 1.84936)         |</pre>"
      ],
      "text/plain": [
       "| 0       | 25                | No Decrease (7.99185 >= 1.84936)         |"
      ]
     },
     "metadata": {},
     "output_type": "display_data"
    },
    {
     "data": {
      "text/html": [
       "<pre>| 1       | 6.25              | No Decrease (2.07794 >= 1.84936)         |</pre>"
      ],
      "text/plain": [
       "| 1       | 6.25              | No Decrease (2.07794 >= 1.84936)         |"
      ]
     },
     "metadata": {},
     "output_type": "display_data"
    },
    {
     "data": {
      "text/html": [
       "<pre>| 2       | 1.5625            | 0.990455                                 |</pre>"
      ],
      "text/plain": [
       "| 2       | 1.5625            | 0.990455                                 |"
      ]
     },
     "metadata": {},
     "output_type": "display_data"
    },
    {
     "data": {
      "text/html": [
       "<pre>| 3       | 0.78125           | 0.134161                                 |</pre>"
      ],
      "text/plain": [
       "| 3       | 0.78125           | 0.134161                                 |"
      ]
     },
     "metadata": {},
     "output_type": "display_data"
    },
    {
     "data": {
      "text/html": [
       "<pre>| 4       | 0.390625          | 0.476884                                 |</pre>"
      ],
      "text/plain": [
       "| 4       | 0.390625          | 0.476884                                 |"
      ]
     },
     "metadata": {},
     "output_type": "display_data"
    },
    {
     "data": {
      "text/html": [
       "<pre>+---------+-------------------+------------------------------------------+</pre>"
      ],
      "text/plain": [
       "+---------+-------------------+------------------------------------------+"
      ]
     },
     "metadata": {},
     "output_type": "display_data"
    },
    {
     "data": {
      "text/html": [
       "<pre>| Final   | 0.78125           | 0.134161                                 |</pre>"
      ],
      "text/plain": [
       "| Final   | 0.78125           | 0.134161                                 |"
      ]
     },
     "metadata": {},
     "output_type": "display_data"
    },
    {
     "data": {
      "text/html": [
       "<pre>+---------+-------------------+------------------------------------------+</pre>"
      ],
      "text/plain": [
       "+---------+-------------------+------------------------------------------+"
      ]
     },
     "metadata": {},
     "output_type": "display_data"
    },
    {
     "data": {
      "text/html": [
       "<pre>Starting Optimization.</pre>"
      ],
      "text/plain": [
       "Starting Optimization."
      ]
     },
     "metadata": {},
     "output_type": "display_data"
    },
    {
     "data": {
      "text/html": [
       "<pre>+---------+--------------+-------------------+-----------------------+-------------+</pre>"
      ],
      "text/plain": [
       "+---------+--------------+-------------------+-----------------------+-------------+"
      ]
     },
     "metadata": {},
     "output_type": "display_data"
    },
    {
     "data": {
      "text/html": [
       "<pre>| Iter.   | Elapsed Time | Approx. Objective | Approx. Training RMSE | Step Size   |</pre>"
      ],
      "text/plain": [
       "| Iter.   | Elapsed Time | Approx. Objective | Approx. Training RMSE | Step Size   |"
      ]
     },
     "metadata": {},
     "output_type": "display_data"
    },
    {
     "data": {
      "text/html": [
       "<pre>+---------+--------------+-------------------+-----------------------+-------------+</pre>"
      ],
      "text/plain": [
       "+---------+--------------+-------------------+-----------------------+-------------+"
      ]
     },
     "metadata": {},
     "output_type": "display_data"
    },
    {
     "data": {
      "text/html": [
       "<pre>| Initial | 72us         | 1.84936           | 1.35991               |             |</pre>"
      ],
      "text/plain": [
       "| Initial | 72us         | 1.84936           | 1.35991               |             |"
      ]
     },
     "metadata": {},
     "output_type": "display_data"
    },
    {
     "data": {
      "text/html": [
       "<pre>+---------+--------------+-------------------+-----------------------+-------------+</pre>"
      ],
      "text/plain": [
       "+---------+--------------+-------------------+-----------------------+-------------+"
      ]
     },
     "metadata": {},
     "output_type": "display_data"
    },
    {
     "data": {
      "text/html": [
       "<pre>| 1       | 1.055ms      | 1.86458           | 1.3655                | 0.78125     |</pre>"
      ],
      "text/plain": [
       "| 1       | 1.055ms      | 1.86458           | 1.3655                | 0.78125     |"
      ]
     },
     "metadata": {},
     "output_type": "display_data"
    },
    {
     "data": {
      "text/html": [
       "<pre>| 2       | 2.119ms      | 1.6191            | 1.27244               | 0.464534    |</pre>"
      ],
      "text/plain": [
       "| 2       | 2.119ms      | 1.6191            | 1.27244               | 0.464534    |"
      ]
     },
     "metadata": {},
     "output_type": "display_data"
    },
    {
     "data": {
      "text/html": [
       "<pre>| 3       | 3.164ms      | 1.3724            | 1.17149               | 0.342728    |</pre>"
      ],
      "text/plain": [
       "| 3       | 3.164ms      | 1.3724            | 1.17149               | 0.342728    |"
      ]
     },
     "metadata": {},
     "output_type": "display_data"
    },
    {
     "data": {
      "text/html": [
       "<pre>| 4       | 4.207ms      | 0.551109          | 0.742367              | 0.232267    |</pre>"
      ],
      "text/plain": [
       "| 4       | 4.207ms      | 0.551109          | 0.742367              | 0.232267    |"
      ]
     },
     "metadata": {},
     "output_type": "display_data"
    },
    {
     "data": {
      "text/html": [
       "<pre>| 5       | 5.177ms      | 0.387081          | 0.622158              | 0.196474    |</pre>"
      ],
      "text/plain": [
       "| 5       | 5.177ms      | 0.387081          | 0.622158              | 0.196474    |"
      ]
     },
     "metadata": {},
     "output_type": "display_data"
    },
    {
     "data": {
      "text/html": [
       "<pre>| 6       | 6.236ms      | 0.111886          | 0.334494              | 0.171364    |</pre>"
      ],
      "text/plain": [
       "| 6       | 6.236ms      | 0.111886          | 0.334494              | 0.171364    |"
      ]
     },
     "metadata": {},
     "output_type": "display_data"
    },
    {
     "data": {
      "text/html": [
       "<pre>| 11      | 12.246ms     | 0.0043822         | 0.0661982             | 0.108765    |</pre>"
      ],
      "text/plain": [
       "| 11      | 12.246ms     | 0.0043822         | 0.0661982             | 0.108765    |"
      ]
     },
     "metadata": {},
     "output_type": "display_data"
    },
    {
     "data": {
      "text/html": [
       "<pre>| 51      | 50.671ms     | 0.000907467       | 0.0301242             | 0.0204683   |</pre>"
      ],
      "text/plain": [
       "| 51      | 50.671ms     | 0.000907467       | 0.0301242             | 0.0204683   |"
      ]
     },
     "metadata": {},
     "output_type": "display_data"
    },
    {
     "data": {
      "text/html": [
       "<pre>| 101     | 98.765ms     | 0.000656987       | 0.0256318             | 0.0122608   |</pre>"
      ],
      "text/plain": [
       "| 101     | 98.765ms     | 0.000656987       | 0.0256318             | 0.0122608   |"
      ]
     },
     "metadata": {},
     "output_type": "display_data"
    },
    {
     "data": {
      "text/html": [
       "<pre>| 501     | 489.206ms    | 0.000310915       | 0.0176328             | 0.00219336  |</pre>"
      ],
      "text/plain": [
       "| 501     | 489.206ms    | 0.000310915       | 0.0176328             | 0.00219336  |"
      ]
     },
     "metadata": {},
     "output_type": "display_data"
    },
    {
     "data": {
      "text/html": [
       "<pre>| 1000    | 969.995ms    | 0.000234141       | 0.0153017             | 0.00130613  |</pre>"
      ],
      "text/plain": [
       "| 1000    | 969.995ms    | 0.000234141       | 0.0153017             | 0.00130613  |"
      ]
     },
     "metadata": {},
     "output_type": "display_data"
    },
    {
     "data": {
      "text/html": [
       "<pre>| 1001    | 971.018ms    | 0.000234038       | 0.0152983             | 0.00130515  |</pre>"
      ],
      "text/plain": [
       "| 1001    | 971.018ms    | 0.000234038       | 0.0152983             | 0.00130515  |"
      ]
     },
     "metadata": {},
     "output_type": "display_data"
    },
    {
     "data": {
      "text/html": [
       "<pre>| 2000    | 1.96s        | 0.000167899       | 0.0129576             | 0.000776632 |</pre>"
      ],
      "text/plain": [
       "| 2000    | 1.96s        | 0.000167899       | 0.0129576             | 0.000776632 |"
      ]
     },
     "metadata": {},
     "output_type": "display_data"
    },
    {
     "data": {
      "text/html": [
       "<pre>+---------+--------------+-------------------+-----------------------+-------------+</pre>"
      ],
      "text/plain": [
       "+---------+--------------+-------------------+-----------------------+-------------+"
      ]
     },
     "metadata": {},
     "output_type": "display_data"
    },
    {
     "data": {
      "text/html": [
       "<pre>Optimization Complete: Maximum number of passes through the data reached.</pre>"
      ],
      "text/plain": [
       "Optimization Complete: Maximum number of passes through the data reached."
      ]
     },
     "metadata": {},
     "output_type": "display_data"
    },
    {
     "data": {
      "text/html": [
       "<pre>Computing final objective value and training RMSE.</pre>"
      ],
      "text/plain": [
       "Computing final objective value and training RMSE."
      ]
     },
     "metadata": {},
     "output_type": "display_data"
    },
    {
     "data": {
      "text/html": [
       "<pre>       Final objective value: 0.00016712</pre>"
      ],
      "text/plain": [
       "       Final objective value: 0.00016712"
      ]
     },
     "metadata": {},
     "output_type": "display_data"
    },
    {
     "data": {
      "text/html": [
       "<pre>       Final training RMSE: 0.0129275</pre>"
      ],
      "text/plain": [
       "       Final training RMSE: 0.0129275"
      ]
     },
     "metadata": {},
     "output_type": "display_data"
    }
   ],
   "source": [
    "rec = gl.recommender.factorization_recommender.create(sf, target='rating',\n",
    "                                                      num_factors=1,\n",
    "                                                     solver='sgd',\n",
    "                                                     max_iterations=2000,\n",
    "                                                     regularization=1e-12,\n",
    "                                                     linear_regularization=1e-12,\n",
    "                                                     sgd_convergence_threshold=1e-10)"
   ]
  },
  {
   "cell_type": "markdown",
   "metadata": {},
   "source": [
    "Below, I verify the 'Final training RMSE' number printed above.\n",
    "\n",
    "The final RMSE is non-negligible.\n",
    "\n",
    "Why can't we reconstruct the matrix perfectly?"
   ]
  },
  {
   "cell_type": "code",
   "execution_count": 525,
   "metadata": {},
   "outputs": [
    {
     "data": {
      "text/plain": [
       "0.012927500581845585"
      ]
     },
     "execution_count": 525,
     "metadata": {},
     "output_type": "execute_result"
    }
   ],
   "source": [
    "np.sqrt(np.mean(np.array(rec.predict(sf) - sf['rating'])**2))"
   ]
  },
  {
   "cell_type": "markdown",
   "metadata": {},
   "source": [
    "The problem seems to be the fast decay of the learning rate.\n",
    "\n",
    "For instance, we can get a better RMSE if we set the initial learning rate  to 1 (a higher value) so that we get bigger steps overall."
   ]
  },
  {
   "cell_type": "code",
   "execution_count": 526,
   "metadata": {},
   "outputs": [
    {
     "data": {
      "text/html": [
       "<pre>Recsys training: model = factorization_recommender</pre>"
      ],
      "text/plain": [
       "Recsys training: model = factorization_recommender"
      ]
     },
     "metadata": {},
     "output_type": "display_data"
    },
    {
     "data": {
      "text/html": [
       "<pre>Preparing data set.</pre>"
      ],
      "text/plain": [
       "Preparing data set."
      ]
     },
     "metadata": {},
     "output_type": "display_data"
    },
    {
     "data": {
      "text/html": [
       "<pre>    Data has 28 observations with 7 users and 7 items.</pre>"
      ],
      "text/plain": [
       "    Data has 28 observations with 7 users and 7 items."
      ]
     },
     "metadata": {},
     "output_type": "display_data"
    },
    {
     "data": {
      "text/html": [
       "<pre>    Data prepared in: 0.002898s</pre>"
      ],
      "text/plain": [
       "    Data prepared in: 0.002898s"
      ]
     },
     "metadata": {},
     "output_type": "display_data"
    },
    {
     "data": {
      "text/html": [
       "<pre>Training factorization_recommender for recommendations.</pre>"
      ],
      "text/plain": [
       "Training factorization_recommender for recommendations."
      ]
     },
     "metadata": {},
     "output_type": "display_data"
    },
    {
     "data": {
      "text/html": [
       "<pre>+--------------------------------+--------------------------------------------------+----------+</pre>"
      ],
      "text/plain": [
       "+--------------------------------+--------------------------------------------------+----------+"
      ]
     },
     "metadata": {},
     "output_type": "display_data"
    },
    {
     "data": {
      "text/html": [
       "<pre>| Parameter                      | Description                                      | Value    |</pre>"
      ],
      "text/plain": [
       "| Parameter                      | Description                                      | Value    |"
      ]
     },
     "metadata": {},
     "output_type": "display_data"
    },
    {
     "data": {
      "text/html": [
       "<pre>+--------------------------------+--------------------------------------------------+----------+</pre>"
      ],
      "text/plain": [
       "+--------------------------------+--------------------------------------------------+----------+"
      ]
     },
     "metadata": {},
     "output_type": "display_data"
    },
    {
     "data": {
      "text/html": [
       "<pre>| num_factors                    | Factor Dimension                                 | 1        |</pre>"
      ],
      "text/plain": [
       "| num_factors                    | Factor Dimension                                 | 1        |"
      ]
     },
     "metadata": {},
     "output_type": "display_data"
    },
    {
     "data": {
      "text/html": [
       "<pre>| regularization                 | L2 Regularization on Factors                     | 1e-12    |</pre>"
      ],
      "text/plain": [
       "| regularization                 | L2 Regularization on Factors                     | 1e-12    |"
      ]
     },
     "metadata": {},
     "output_type": "display_data"
    },
    {
     "data": {
      "text/html": [
       "<pre>| solver                         | Solver used for training                         | sgd      |</pre>"
      ],
      "text/plain": [
       "| solver                         | Solver used for training                         | sgd      |"
      ]
     },
     "metadata": {},
     "output_type": "display_data"
    },
    {
     "data": {
      "text/html": [
       "<pre>| linear_regularization          | L2 Regularization on Linear Coefficients         | 1e-12    |</pre>"
      ],
      "text/plain": [
       "| linear_regularization          | L2 Regularization on Linear Coefficients         | 1e-12    |"
      ]
     },
     "metadata": {},
     "output_type": "display_data"
    },
    {
     "data": {
      "text/html": [
       "<pre>| sgd_step_size                  | Starting SGD Step Size                           | 1        |</pre>"
      ],
      "text/plain": [
       "| sgd_step_size                  | Starting SGD Step Size                           | 1        |"
      ]
     },
     "metadata": {},
     "output_type": "display_data"
    },
    {
     "data": {
      "text/html": [
       "<pre>| max_iterations                 | Maximum Number of Iterations                     | 2000     |</pre>"
      ],
      "text/plain": [
       "| max_iterations                 | Maximum Number of Iterations                     | 2000     |"
      ]
     },
     "metadata": {},
     "output_type": "display_data"
    },
    {
     "data": {
      "text/html": [
       "<pre>+--------------------------------+--------------------------------------------------+----------+</pre>"
      ],
      "text/plain": [
       "+--------------------------------+--------------------------------------------------+----------+"
      ]
     },
     "metadata": {},
     "output_type": "display_data"
    },
    {
     "data": {
      "text/html": [
       "<pre>  Optimizing model using SGD (step size tuning: OFF).</pre>"
      ],
      "text/plain": [
       "  Optimizing model using SGD (step size tuning: OFF)."
      ]
     },
     "metadata": {},
     "output_type": "display_data"
    },
    {
     "data": {
      "text/html": [
       "<pre>Starting Optimization.</pre>"
      ],
      "text/plain": [
       "Starting Optimization."
      ]
     },
     "metadata": {},
     "output_type": "display_data"
    },
    {
     "data": {
      "text/html": [
       "<pre>+---------+--------------+-------------------+-----------------------+-------------+</pre>"
      ],
      "text/plain": [
       "+---------+--------------+-------------------+-----------------------+-------------+"
      ]
     },
     "metadata": {},
     "output_type": "display_data"
    },
    {
     "data": {
      "text/html": [
       "<pre>| Iter.   | Elapsed Time | Approx. Objective | Approx. Training RMSE | Step Size   |</pre>"
      ],
      "text/plain": [
       "| Iter.   | Elapsed Time | Approx. Objective | Approx. Training RMSE | Step Size   |"
      ]
     },
     "metadata": {},
     "output_type": "display_data"
    },
    {
     "data": {
      "text/html": [
       "<pre>+---------+--------------+-------------------+-----------------------+-------------+</pre>"
      ],
      "text/plain": [
       "+---------+--------------+-------------------+-----------------------+-------------+"
      ]
     },
     "metadata": {},
     "output_type": "display_data"
    },
    {
     "data": {
      "text/html": [
       "<pre>| Initial | 49us         | 1.84936           | 1.35991               |             |</pre>"
      ],
      "text/plain": [
       "| Initial | 49us         | 1.84936           | 1.35991               |             |"
      ]
     },
     "metadata": {},
     "output_type": "display_data"
    },
    {
     "data": {
      "text/html": [
       "<pre>+---------+--------------+-------------------+-----------------------+-------------+</pre>"
      ],
      "text/plain": [
       "+---------+--------------+-------------------+-----------------------+-------------+"
      ]
     },
     "metadata": {},
     "output_type": "display_data"
    },
    {
     "data": {
      "text/html": [
       "<pre>| 1       | 5.449ms      | 1.67127           | 1.29278               | 1           |</pre>"
      ],
      "text/plain": [
       "| 1       | 5.449ms      | 1.67127           | 1.29278               | 1           |"
      ]
     },
     "metadata": {},
     "output_type": "display_data"
    },
    {
     "data": {
      "text/html": [
       "<pre>| 2       | 6.539ms      | 2.71924           | 1.64901               | 0.594604    |</pre>"
      ],
      "text/plain": [
       "| 2       | 6.539ms      | 2.71924           | 1.64901               | 0.594604    |"
      ]
     },
     "metadata": {},
     "output_type": "display_data"
    },
    {
     "data": {
      "text/html": [
       "<pre>| 3       | 7.696ms      | 2.22128           | 1.4904                | 0.438691    |</pre>"
      ],
      "text/plain": [
       "| 3       | 7.696ms      | 2.22128           | 1.4904                | 0.438691    |"
      ]
     },
     "metadata": {},
     "output_type": "display_data"
    },
    {
     "data": {
      "text/html": [
       "<pre>| 4       | 8.79ms       | 1.24224           | 1.11456               | 0.297302    |</pre>"
      ],
      "text/plain": [
       "| 4       | 8.79ms       | 1.24224           | 1.11456               | 0.297302    |"
      ]
     },
     "metadata": {},
     "output_type": "display_data"
    },
    {
     "data": {
      "text/html": [
       "<pre>| 5       | 9.713ms      | 0.928742          | 0.963713              | 0.211474    |</pre>"
      ],
      "text/plain": [
       "| 5       | 9.713ms      | 0.928742          | 0.963713              | 0.211474    |"
      ]
     },
     "metadata": {},
     "output_type": "display_data"
    },
    {
     "data": {
      "text/html": [
       "<pre>| 6       | 10.677ms     | 0.300641          | 0.548308              | 0.184447    |</pre>"
      ],
      "text/plain": [
       "| 6       | 10.677ms     | 0.300641          | 0.548308              | 0.184447    |"
      ]
     },
     "metadata": {},
     "output_type": "display_data"
    },
    {
     "data": {
      "text/html": [
       "<pre>| 11      | 15.402ms     | 0.00415364        | 0.0644487             | 0.117069    |</pre>"
      ],
      "text/plain": [
       "| 11      | 15.402ms     | 0.00415364        | 0.0644487             | 0.117069    |"
      ]
     },
     "metadata": {},
     "output_type": "display_data"
    },
    {
     "data": {
      "text/html": [
       "<pre>| 51      | 55.835ms     | 0.000266997       | 0.0163401             | 0.0370516   |</pre>"
      ],
      "text/plain": [
       "| 51      | 55.835ms     | 0.000266997       | 0.0163401             | 0.0370516   |"
      ]
     },
     "metadata": {},
     "output_type": "display_data"
    },
    {
     "data": {
      "text/html": [
       "<pre>| 101     | 101.55ms     | 0.000124159       | 0.0111426             | 0.0131969   |</pre>"
      ],
      "text/plain": [
       "| 101     | 101.55ms     | 0.000124159       | 0.0111426             | 0.0131969   |"
      ]
     },
     "metadata": {},
     "output_type": "display_data"
    },
    {
     "data": {
      "text/html": [
       "<pre>| 501     | 472.06ms     | 3.7845e-05        | 0.00615183            | 0.0039704   |</pre>"
      ],
      "text/plain": [
       "| 501     | 472.06ms     | 3.7845e-05        | 0.00615183            | 0.0039704   |"
      ]
     },
     "metadata": {},
     "output_type": "display_data"
    },
    {
     "data": {
      "text/html": [
       "<pre>| 1000    | 928.572ms    | 1.99568e-05       | 0.0044673             | 0.00236435  |</pre>"
      ],
      "text/plain": [
       "| 1000    | 928.572ms    | 1.99568e-05       | 0.0044673             | 0.00236435  |"
      ]
     },
     "metadata": {},
     "output_type": "display_data"
    },
    {
     "data": {
      "text/html": [
       "<pre>| 1001    | 929.513ms    | 1.99364e-05       | 0.00446502            | 0.00236258  |</pre>"
      ],
      "text/plain": [
       "| 1001    | 929.513ms    | 1.99364e-05       | 0.00446502            | 0.00236258  |"
      ]
     },
     "metadata": {},
     "output_type": "display_data"
    },
    {
     "data": {
      "text/html": [
       "<pre>| 2000    | 1.84s        | 1.214e-05         | 0.00348425            | 0.000835925 |</pre>"
      ],
      "text/plain": [
       "| 2000    | 1.84s        | 1.214e-05         | 0.00348425            | 0.000835925 |"
      ]
     },
     "metadata": {},
     "output_type": "display_data"
    },
    {
     "data": {
      "text/html": [
       "<pre>+---------+--------------+-------------------+-----------------------+-------------+</pre>"
      ],
      "text/plain": [
       "+---------+--------------+-------------------+-----------------------+-------------+"
      ]
     },
     "metadata": {},
     "output_type": "display_data"
    },
    {
     "data": {
      "text/html": [
       "<pre>Optimization Complete: Maximum number of passes through the data reached.</pre>"
      ],
      "text/plain": [
       "Optimization Complete: Maximum number of passes through the data reached."
      ]
     },
     "metadata": {},
     "output_type": "display_data"
    },
    {
     "data": {
      "text/html": [
       "<pre>Computing final objective value and training RMSE.</pre>"
      ],
      "text/plain": [
       "Computing final objective value and training RMSE."
      ]
     },
     "metadata": {},
     "output_type": "display_data"
    },
    {
     "data": {
      "text/html": [
       "<pre>       Final objective value: 1.20785e-05</pre>"
      ],
      "text/plain": [
       "       Final objective value: 1.20785e-05"
      ]
     },
     "metadata": {},
     "output_type": "display_data"
    },
    {
     "data": {
      "text/html": [
       "<pre>       Final training RMSE: 0.00347542</pre>"
      ],
      "text/plain": [
       "       Final training RMSE: 0.00347542"
      ]
     },
     "metadata": {},
     "output_type": "display_data"
    }
   ],
   "source": [
    "rec = gl.recommender.factorization_recommender.create(sf, target='rating',\n",
    "                                                      num_factors=1,\n",
    "                                                     solver='sgd',\n",
    "                                                     max_iterations=2000,\n",
    "                                                     regularization=1e-12,\n",
    "                                                     linear_regularization=1e-12,\n",
    "                                                     sgd_convergence_threshold=1e-10,\n",
    "                                                     sgd_step_size=1)"
   ]
  },
  {
   "cell_type": "code",
   "execution_count": 527,
   "metadata": {},
   "outputs": [
    {
     "data": {
      "text/plain": [
       "0.0034754172065354591"
      ]
     },
     "execution_count": 527,
     "metadata": {},
     "output_type": "execute_result"
    }
   ],
   "source": [
    "np.sqrt(np.mean(np.array(rec.predict(sf) - sf['rating'])**2))"
   ]
  },
  {
   "cell_type": "markdown",
   "metadata": {},
   "source": [
    "There are also some undocumented attributes that appear to give us some control over the learning rate decay.  For instance:"
   ]
  },
  {
   "cell_type": "code",
   "execution_count": 528,
   "metadata": {},
   "outputs": [
    {
     "data": {
      "text/plain": [
       "0.75"
      ]
     },
     "execution_count": 528,
     "metadata": {},
     "output_type": "execute_result"
    }
   ],
   "source": [
    "rec.step_size_decrease_rate"
   ]
  },
  {
   "cell_type": "markdown",
   "metadata": {},
   "source": [
    "This attribute can range from 0.5 to 1.  Let's set it to 1:"
   ]
  },
  {
   "cell_type": "code",
   "execution_count": 529,
   "metadata": {},
   "outputs": [
    {
     "data": {
      "text/html": [
       "<pre>Recsys training: model = factorization_recommender</pre>"
      ],
      "text/plain": [
       "Recsys training: model = factorization_recommender"
      ]
     },
     "metadata": {},
     "output_type": "display_data"
    },
    {
     "data": {
      "text/html": [
       "<pre>Preparing data set.</pre>"
      ],
      "text/plain": [
       "Preparing data set."
      ]
     },
     "metadata": {},
     "output_type": "display_data"
    },
    {
     "data": {
      "text/html": [
       "<pre>    Data has 28 observations with 7 users and 7 items.</pre>"
      ],
      "text/plain": [
       "    Data has 28 observations with 7 users and 7 items."
      ]
     },
     "metadata": {},
     "output_type": "display_data"
    },
    {
     "data": {
      "text/html": [
       "<pre>    Data prepared in: 0.003128s</pre>"
      ],
      "text/plain": [
       "    Data prepared in: 0.003128s"
      ]
     },
     "metadata": {},
     "output_type": "display_data"
    },
    {
     "data": {
      "text/html": [
       "<pre>Training factorization_recommender for recommendations.</pre>"
      ],
      "text/plain": [
       "Training factorization_recommender for recommendations."
      ]
     },
     "metadata": {},
     "output_type": "display_data"
    },
    {
     "data": {
      "text/html": [
       "<pre>+--------------------------------+--------------------------------------------------+----------+</pre>"
      ],
      "text/plain": [
       "+--------------------------------+--------------------------------------------------+----------+"
      ]
     },
     "metadata": {},
     "output_type": "display_data"
    },
    {
     "data": {
      "text/html": [
       "<pre>| Parameter                      | Description                                      | Value    |</pre>"
      ],
      "text/plain": [
       "| Parameter                      | Description                                      | Value    |"
      ]
     },
     "metadata": {},
     "output_type": "display_data"
    },
    {
     "data": {
      "text/html": [
       "<pre>+--------------------------------+--------------------------------------------------+----------+</pre>"
      ],
      "text/plain": [
       "+--------------------------------+--------------------------------------------------+----------+"
      ]
     },
     "metadata": {},
     "output_type": "display_data"
    },
    {
     "data": {
      "text/html": [
       "<pre>| num_factors                    | Factor Dimension                                 | 1        |</pre>"
      ],
      "text/plain": [
       "| num_factors                    | Factor Dimension                                 | 1        |"
      ]
     },
     "metadata": {},
     "output_type": "display_data"
    },
    {
     "data": {
      "text/html": [
       "<pre>| regularization                 | L2 Regularization on Factors                     | 1e-12    |</pre>"
      ],
      "text/plain": [
       "| regularization                 | L2 Regularization on Factors                     | 1e-12    |"
      ]
     },
     "metadata": {},
     "output_type": "display_data"
    },
    {
     "data": {
      "text/html": [
       "<pre>| solver                         | Solver used for training                         | sgd      |</pre>"
      ],
      "text/plain": [
       "| solver                         | Solver used for training                         | sgd      |"
      ]
     },
     "metadata": {},
     "output_type": "display_data"
    },
    {
     "data": {
      "text/html": [
       "<pre>| linear_regularization          | L2 Regularization on Linear Coefficients         | 1e-12    |</pre>"
      ],
      "text/plain": [
       "| linear_regularization          | L2 Regularization on Linear Coefficients         | 1e-12    |"
      ]
     },
     "metadata": {},
     "output_type": "display_data"
    },
    {
     "data": {
      "text/html": [
       "<pre>| sgd_step_size                  | Starting SGD Step Size                           | 1        |</pre>"
      ],
      "text/plain": [
       "| sgd_step_size                  | Starting SGD Step Size                           | 1        |"
      ]
     },
     "metadata": {},
     "output_type": "display_data"
    },
    {
     "data": {
      "text/html": [
       "<pre>| max_iterations                 | Maximum Number of Iterations                     | 2000     |</pre>"
      ],
      "text/plain": [
       "| max_iterations                 | Maximum Number of Iterations                     | 2000     |"
      ]
     },
     "metadata": {},
     "output_type": "display_data"
    },
    {
     "data": {
      "text/html": [
       "<pre>+--------------------------------+--------------------------------------------------+----------+</pre>"
      ],
      "text/plain": [
       "+--------------------------------+--------------------------------------------------+----------+"
      ]
     },
     "metadata": {},
     "output_type": "display_data"
    },
    {
     "data": {
      "text/html": [
       "<pre>  Optimizing model using SGD (step size tuning: OFF).</pre>"
      ],
      "text/plain": [
       "  Optimizing model using SGD (step size tuning: OFF)."
      ]
     },
     "metadata": {},
     "output_type": "display_data"
    },
    {
     "data": {
      "text/html": [
       "<pre>Starting Optimization.</pre>"
      ],
      "text/plain": [
       "Starting Optimization."
      ]
     },
     "metadata": {},
     "output_type": "display_data"
    },
    {
     "data": {
      "text/html": [
       "<pre>+---------+--------------+-------------------+-----------------------+-------------+</pre>"
      ],
      "text/plain": [
       "+---------+--------------+-------------------+-----------------------+-------------+"
      ]
     },
     "metadata": {},
     "output_type": "display_data"
    },
    {
     "data": {
      "text/html": [
       "<pre>| Iter.   | Elapsed Time | Approx. Objective | Approx. Training RMSE | Step Size   |</pre>"
      ],
      "text/plain": [
       "| Iter.   | Elapsed Time | Approx. Objective | Approx. Training RMSE | Step Size   |"
      ]
     },
     "metadata": {},
     "output_type": "display_data"
    },
    {
     "data": {
      "text/html": [
       "<pre>+---------+--------------+-------------------+-----------------------+-------------+</pre>"
      ],
      "text/plain": [
       "+---------+--------------+-------------------+-----------------------+-------------+"
      ]
     },
     "metadata": {},
     "output_type": "display_data"
    },
    {
     "data": {
      "text/html": [
       "<pre>| Initial | 50us         | 1.84936           | 1.35991               |             |</pre>"
      ],
      "text/plain": [
       "| Initial | 50us         | 1.84936           | 1.35991               |             |"
      ]
     },
     "metadata": {},
     "output_type": "display_data"
    },
    {
     "data": {
      "text/html": [
       "<pre>+---------+--------------+-------------------+-----------------------+-------------+</pre>"
      ],
      "text/plain": [
       "+---------+--------------+-------------------+-----------------------+-------------+"
      ]
     },
     "metadata": {},
     "output_type": "display_data"
    },
    {
     "data": {
      "text/html": [
       "<pre>| 1       | 4.62ms       | 1.90058           | 1.37861               | 1           |</pre>"
      ],
      "text/plain": [
       "| 1       | 4.62ms       | 1.90058           | 1.37861               | 1           |"
      ]
     },
     "metadata": {},
     "output_type": "display_data"
    },
    {
     "data": {
      "text/html": [
       "<pre>| 2       | 6.656ms      | 1.28076           | 1.13171               | 0.5         |</pre>"
      ],
      "text/plain": [
       "| 2       | 6.656ms      | 1.28076           | 1.13171               | 0.5         |"
      ]
     },
     "metadata": {},
     "output_type": "display_data"
    },
    {
     "data": {
      "text/html": [
       "<pre>| 3       | 7.655ms      | 1.36601           | 1.16876               | 0.333333    |</pre>"
      ],
      "text/plain": [
       "| 3       | 7.655ms      | 1.36601           | 1.16876               | 0.333333    |"
      ]
     },
     "metadata": {},
     "output_type": "display_data"
    },
    {
     "data": {
      "text/html": [
       "<pre>| 4       | 9.111ms      | 0.571231          | 0.755798              | 0.210224    |</pre>"
      ],
      "text/plain": [
       "| 4       | 9.111ms      | 0.571231          | 0.755798              | 0.210224    |"
      ]
     },
     "metadata": {},
     "output_type": "display_data"
    },
    {
     "data": {
      "text/html": [
       "<pre>| 5       | 10.019ms     | 0.183054          | 0.427848              | 0.141421    |</pre>"
      ],
      "text/plain": [
       "| 5       | 10.019ms     | 0.183054          | 0.427848              | 0.141421    |"
      ]
     },
     "metadata": {},
     "output_type": "display_data"
    },
    {
     "data": {
      "text/html": [
       "<pre>| 6       | 11.507ms     | 0.0742982         | 0.272577              | 0.0991006   |</pre>"
      ],
      "text/plain": [
       "| 6       | 11.507ms     | 0.0742982         | 0.272577              | 0.0991006   |"
      ]
     },
     "metadata": {},
     "output_type": "display_data"
    },
    {
     "data": {
      "text/html": [
       "<pre>| 11      | 16.114ms     | 0.0116003         | 0.107705              | 0.0540549   |</pre>"
      ],
      "text/plain": [
       "| 11      | 16.114ms     | 0.0116003         | 0.107705              | 0.0540549   |"
      ]
     },
     "metadata": {},
     "output_type": "display_data"
    },
    {
     "data": {
      "text/html": [
       "<pre>| 51      | 52.859ms     | 0.00255819        | 0.0505786             | 0.0116589   |</pre>"
      ],
      "text/plain": [
       "| 51      | 52.859ms     | 0.00255819        | 0.0505786             | 0.0116589   |"
      ]
     },
     "metadata": {},
     "output_type": "display_data"
    },
    {
     "data": {
      "text/html": [
       "<pre>| 101     | 98.245ms     | 0.00187002        | 0.0432438             | 0.00588716  |</pre>"
      ],
      "text/plain": [
       "| 101     | 98.245ms     | 0.00187002        | 0.0432438             | 0.00588716  |"
      ]
     },
     "metadata": {},
     "output_type": "display_data"
    },
    {
     "data": {
      "text/html": [
       "<pre>| 501     | 456.084ms    | 0.00112588        | 0.0335541             | 0.00118683  |</pre>"
      ],
      "text/plain": [
       "| 501     | 456.084ms    | 0.00112588        | 0.0335541             | 0.00118683  |"
      ]
     },
     "metadata": {},
     "output_type": "display_data"
    },
    {
     "data": {
      "text/html": [
       "<pre>| 1000    | 907.77ms     | 0.000940577       | 0.0306688             | 0.000594604 |</pre>"
      ],
      "text/plain": [
       "| 1000    | 907.77ms     | 0.000940577       | 0.0306688             | 0.000594604 |"
      ]
     },
     "metadata": {},
     "output_type": "display_data"
    },
    {
     "data": {
      "text/html": [
       "<pre>| 1001    | 908.819ms    | 0.000940339       | 0.0306649             | 0.00059401  |</pre>"
      ],
      "text/plain": [
       "| 1001    | 908.819ms    | 0.000940339       | 0.0306649             | 0.00059401  |"
      ]
     },
     "metadata": {},
     "output_type": "display_data"
    },
    {
     "data": {
      "text/html": [
       "<pre>| 2000    | 1.81s        | 0.000792661       | 0.0281542             | 0.000297302 |</pre>"
      ],
      "text/plain": [
       "| 2000    | 1.81s        | 0.000792661       | 0.0281542             | 0.000297302 |"
      ]
     },
     "metadata": {},
     "output_type": "display_data"
    },
    {
     "data": {
      "text/html": [
       "<pre>+---------+--------------+-------------------+-----------------------+-------------+</pre>"
      ],
      "text/plain": [
       "+---------+--------------+-------------------+-----------------------+-------------+"
      ]
     },
     "metadata": {},
     "output_type": "display_data"
    },
    {
     "data": {
      "text/html": [
       "<pre>Optimization Complete: Maximum number of passes through the data reached.</pre>"
      ],
      "text/plain": [
       "Optimization Complete: Maximum number of passes through the data reached."
      ]
     },
     "metadata": {},
     "output_type": "display_data"
    },
    {
     "data": {
      "text/html": [
       "<pre>Computing final objective value and training RMSE.</pre>"
      ],
      "text/plain": [
       "Computing final objective value and training RMSE."
      ]
     },
     "metadata": {},
     "output_type": "display_data"
    },
    {
     "data": {
      "text/html": [
       "<pre>       Final objective value: 0.000791418</pre>"
      ],
      "text/plain": [
       "       Final objective value: 0.000791418"
      ]
     },
     "metadata": {},
     "output_type": "display_data"
    },
    {
     "data": {
      "text/html": [
       "<pre>       Final training RMSE: 0.0281321</pre>"
      ],
      "text/plain": [
       "       Final training RMSE: 0.0281321"
      ]
     },
     "metadata": {},
     "output_type": "display_data"
    }
   ],
   "source": [
    "rec = gl.recommender.factorization_recommender.create(sf, target='rating',\n",
    "                                                      num_factors=1,\n",
    "                                                     solver='sgd',\n",
    "                                                     max_iterations=2000,\n",
    "                                                     regularization=1e-12,\n",
    "                                                     linear_regularization=1e-12,\n",
    "                                                     sgd_convergence_threshold=1e-10,\n",
    "                                                     sgd_step_size=1,\n",
    "                                                     step_size_decrease_rate=1)"
   ]
  },
  {
   "cell_type": "markdown",
   "metadata": {},
   "source": [
    "Note in the \"Step size\" column that the step size is now very close to the (1/t) where t is the iteration number.  Further tests with \"step_size_decrease_rate\" show that it equals \"n\" in the equation\n",
    "\n",
    "learning rate = init_rate / (lambda \\* t)^n\n",
    "\n",
    "with lambda apparently fixed at a value close to 1.  (If there's a way to control lambda, I can't find it.)\n",
    "\n",
    "To make the learning rate decay as slow as possible, let's try n=0.5.  I've also pumped up the number of iterations to 5000 -- we can see that the RMSE is converging to a nonzero value."
   ]
  },
  {
   "cell_type": "code",
   "execution_count": 536,
   "metadata": {},
   "outputs": [
    {
     "data": {
      "text/html": [
       "<pre>Recsys training: model = factorization_recommender</pre>"
      ],
      "text/plain": [
       "Recsys training: model = factorization_recommender"
      ]
     },
     "metadata": {},
     "output_type": "display_data"
    },
    {
     "data": {
      "text/html": [
       "<pre>Preparing data set.</pre>"
      ],
      "text/plain": [
       "Preparing data set."
      ]
     },
     "metadata": {},
     "output_type": "display_data"
    },
    {
     "data": {
      "text/html": [
       "<pre>    Data has 28 observations with 7 users and 7 items.</pre>"
      ],
      "text/plain": [
       "    Data has 28 observations with 7 users and 7 items."
      ]
     },
     "metadata": {},
     "output_type": "display_data"
    },
    {
     "data": {
      "text/html": [
       "<pre>    Data prepared in: 0.003018s</pre>"
      ],
      "text/plain": [
       "    Data prepared in: 0.003018s"
      ]
     },
     "metadata": {},
     "output_type": "display_data"
    },
    {
     "data": {
      "text/html": [
       "<pre>Training factorization_recommender for recommendations.</pre>"
      ],
      "text/plain": [
       "Training factorization_recommender for recommendations."
      ]
     },
     "metadata": {},
     "output_type": "display_data"
    },
    {
     "data": {
      "text/html": [
       "<pre>+--------------------------------+--------------------------------------------------+----------+</pre>"
      ],
      "text/plain": [
       "+--------------------------------+--------------------------------------------------+----------+"
      ]
     },
     "metadata": {},
     "output_type": "display_data"
    },
    {
     "data": {
      "text/html": [
       "<pre>| Parameter                      | Description                                      | Value    |</pre>"
      ],
      "text/plain": [
       "| Parameter                      | Description                                      | Value    |"
      ]
     },
     "metadata": {},
     "output_type": "display_data"
    },
    {
     "data": {
      "text/html": [
       "<pre>+--------------------------------+--------------------------------------------------+----------+</pre>"
      ],
      "text/plain": [
       "+--------------------------------+--------------------------------------------------+----------+"
      ]
     },
     "metadata": {},
     "output_type": "display_data"
    },
    {
     "data": {
      "text/html": [
       "<pre>| num_factors                    | Factor Dimension                                 | 1        |</pre>"
      ],
      "text/plain": [
       "| num_factors                    | Factor Dimension                                 | 1        |"
      ]
     },
     "metadata": {},
     "output_type": "display_data"
    },
    {
     "data": {
      "text/html": [
       "<pre>| regularization                 | L2 Regularization on Factors                     | 1e-12    |</pre>"
      ],
      "text/plain": [
       "| regularization                 | L2 Regularization on Factors                     | 1e-12    |"
      ]
     },
     "metadata": {},
     "output_type": "display_data"
    },
    {
     "data": {
      "text/html": [
       "<pre>| solver                         | Solver used for training                         | sgd      |</pre>"
      ],
      "text/plain": [
       "| solver                         | Solver used for training                         | sgd      |"
      ]
     },
     "metadata": {},
     "output_type": "display_data"
    },
    {
     "data": {
      "text/html": [
       "<pre>| linear_regularization          | L2 Regularization on Linear Coefficients         | 1e-12    |</pre>"
      ],
      "text/plain": [
       "| linear_regularization          | L2 Regularization on Linear Coefficients         | 1e-12    |"
      ]
     },
     "metadata": {},
     "output_type": "display_data"
    },
    {
     "data": {
      "text/html": [
       "<pre>| sgd_step_size                  | Starting SGD Step Size                           | 1        |</pre>"
      ],
      "text/plain": [
       "| sgd_step_size                  | Starting SGD Step Size                           | 1        |"
      ]
     },
     "metadata": {},
     "output_type": "display_data"
    },
    {
     "data": {
      "text/html": [
       "<pre>| max_iterations                 | Maximum Number of Iterations                     | 5000     |</pre>"
      ],
      "text/plain": [
       "| max_iterations                 | Maximum Number of Iterations                     | 5000     |"
      ]
     },
     "metadata": {},
     "output_type": "display_data"
    },
    {
     "data": {
      "text/html": [
       "<pre>+--------------------------------+--------------------------------------------------+----------+</pre>"
      ],
      "text/plain": [
       "+--------------------------------+--------------------------------------------------+----------+"
      ]
     },
     "metadata": {},
     "output_type": "display_data"
    },
    {
     "data": {
      "text/html": [
       "<pre>  Optimizing model using SGD (step size tuning: OFF).</pre>"
      ],
      "text/plain": [
       "  Optimizing model using SGD (step size tuning: OFF)."
      ]
     },
     "metadata": {},
     "output_type": "display_data"
    },
    {
     "data": {
      "text/html": [
       "<pre>Starting Optimization.</pre>"
      ],
      "text/plain": [
       "Starting Optimization."
      ]
     },
     "metadata": {},
     "output_type": "display_data"
    },
    {
     "data": {
      "text/html": [
       "<pre>+---------+--------------+-------------------+-----------------------+-------------+</pre>"
      ],
      "text/plain": [
       "+---------+--------------+-------------------+-----------------------+-------------+"
      ]
     },
     "metadata": {},
     "output_type": "display_data"
    },
    {
     "data": {
      "text/html": [
       "<pre>| Iter.   | Elapsed Time | Approx. Objective | Approx. Training RMSE | Step Size   |</pre>"
      ],
      "text/plain": [
       "| Iter.   | Elapsed Time | Approx. Objective | Approx. Training RMSE | Step Size   |"
      ]
     },
     "metadata": {},
     "output_type": "display_data"
    },
    {
     "data": {
      "text/html": [
       "<pre>+---------+--------------+-------------------+-----------------------+-------------+</pre>"
      ],
      "text/plain": [
       "+---------+--------------+-------------------+-----------------------+-------------+"
      ]
     },
     "metadata": {},
     "output_type": "display_data"
    },
    {
     "data": {
      "text/html": [
       "<pre>| Initial | 51us         | 1.84936           | 1.35991               |             |</pre>"
      ],
      "text/plain": [
       "| Initial | 51us         | 1.84936           | 1.35991               |             |"
      ]
     },
     "metadata": {},
     "output_type": "display_data"
    },
    {
     "data": {
      "text/html": [
       "<pre>+---------+--------------+-------------------+-----------------------+-------------+</pre>"
      ],
      "text/plain": [
       "+---------+--------------+-------------------+-----------------------+-------------+"
      ]
     },
     "metadata": {},
     "output_type": "display_data"
    },
    {
     "data": {
      "text/html": [
       "<pre>| 1       | 6.079ms      | 2.11974           | 1.45593               | 1           |</pre>"
      ],
      "text/plain": [
       "| 1       | 6.079ms      | 2.11974           | 1.45593               | 1           |"
      ]
     },
     "metadata": {},
     "output_type": "display_data"
    },
    {
     "data": {
      "text/html": [
       "<pre>| 2       | 7.292ms      | 1.78006           | 1.33419               | 0.594604    |</pre>"
      ],
      "text/plain": [
       "| 2       | 7.292ms      | 1.78006           | 1.33419               | 0.594604    |"
      ]
     },
     "metadata": {},
     "output_type": "display_data"
    },
    {
     "data": {
      "text/html": [
       "<pre>| 3       | 8.256ms      | 0.993513          | 0.996751              | 0.438691    |</pre>"
      ],
      "text/plain": [
       "| 3       | 8.256ms      | 0.993513          | 0.996751              | 0.438691    |"
      ]
     },
     "metadata": {},
     "output_type": "display_data"
    },
    {
     "data": {
      "text/html": [
       "<pre>| 4       | 9.235ms      | 1.30349           | 1.14171               | 0.297302    |</pre>"
      ],
      "text/plain": [
       "| 4       | 9.235ms      | 1.30349           | 1.14171               | 0.297302    |"
      ]
     },
     "metadata": {},
     "output_type": "display_data"
    },
    {
     "data": {
      "text/html": [
       "<pre>| 5       | 10.199ms     | 1.07312           | 1.03592               | 0.211474    |</pre>"
      ],
      "text/plain": [
       "| 5       | 10.199ms     | 1.07312           | 1.03592               | 0.211474    |"
      ]
     },
     "metadata": {},
     "output_type": "display_data"
    },
    {
     "data": {
      "text/html": [
       "<pre>| 6       | 11.183ms     | 0.281146          | 0.530232              | 0.155101    |</pre>"
      ],
      "text/plain": [
       "| 6       | 11.183ms     | 0.281146          | 0.530232              | 0.155101    |"
      ]
     },
     "metadata": {},
     "output_type": "display_data"
    },
    {
     "data": {
      "text/html": [
       "<pre>| 11      | 20.015ms     | 0.0160683         | 0.126761              | 0.08278     |</pre>"
      ],
      "text/plain": [
       "| 11      | 20.015ms     | 0.0160683         | 0.126761              | 0.08278     |"
      ]
     },
     "metadata": {},
     "output_type": "display_data"
    },
    {
     "data": {
      "text/html": [
       "<pre>| 51      | 70.995ms     | 0.00157331        | 0.039665              | 0.0261995   |</pre>"
      ],
      "text/plain": [
       "| 51      | 70.995ms     | 0.00157331        | 0.039665              | 0.0261995   |"
      ]
     },
     "metadata": {},
     "output_type": "display_data"
    },
    {
     "data": {
      "text/html": [
       "<pre>| 101     | 116.822ms    | 0.000937459       | 0.030618              | 0.0156938   |</pre>"
      ],
      "text/plain": [
       "| 101     | 116.822ms    | 0.000937459       | 0.030618              | 0.0156938   |"
      ]
     },
     "metadata": {},
     "output_type": "display_data"
    },
    {
     "data": {
      "text/html": [
       "<pre>| 501     | 518.305ms    | 0.000264341       | 0.0162586             | 0.0028075   |</pre>"
      ],
      "text/plain": [
       "| 501     | 518.305ms    | 0.000264341       | 0.0162586             | 0.0028075   |"
      ]
     },
     "metadata": {},
     "output_type": "display_data"
    },
    {
     "data": {
      "text/html": [
       "<pre>| 1000    | 982.655ms    | 0.000174153       | 0.0131967             | 0.00167185  |</pre>"
      ],
      "text/plain": [
       "| 1000    | 982.655ms    | 0.000174153       | 0.0131967             | 0.00167185  |"
      ]
     },
     "metadata": {},
     "output_type": "display_data"
    },
    {
     "data": {
      "text/html": [
       "<pre>| 1001    | 983.646ms    | 0.000174039       | 0.0131924             | 0.0016706   |</pre>"
      ],
      "text/plain": [
       "| 1001    | 983.646ms    | 0.000174039       | 0.0131924             | 0.0016706   |"
      ]
     },
     "metadata": {},
     "output_type": "display_data"
    },
    {
     "data": {
      "text/html": [
       "<pre>| 2000    | 1.91s        | 0.000107012       | 0.0103447             | 0.000994088 |</pre>"
      ],
      "text/plain": [
       "| 2000    | 1.91s        | 0.000107012       | 0.0103447             | 0.000994088 |"
      ]
     },
     "metadata": {},
     "output_type": "display_data"
    },
    {
     "data": {
      "text/html": [
       "<pre>| 3000    | 2.83s        | 7.75617e-05       | 0.00880691            | 0.000733426 |</pre>"
      ],
      "text/plain": [
       "| 3000    | 2.83s        | 7.75617e-05       | 0.00880691            | 0.000733426 |"
      ]
     },
     "metadata": {},
     "output_type": "display_data"
    },
    {
     "data": {
      "text/html": [
       "<pre>| 4000    | 3.73s        | 6.32974e-05       | 0.00795596            | 0.000351463 |</pre>"
      ],
      "text/plain": [
       "| 4000    | 3.73s        | 6.32974e-05       | 0.00795596            | 0.000351463 |"
      ]
     },
     "metadata": {},
     "output_type": "display_data"
    },
    {
     "data": {
      "text/html": [
       "<pre>| 5000    | 4.65s        | 5.60968e-05       | 0.00748978            | 0.000297302 |</pre>"
      ],
      "text/plain": [
       "| 5000    | 4.65s        | 5.60968e-05       | 0.00748978            | 0.000297302 |"
      ]
     },
     "metadata": {},
     "output_type": "display_data"
    },
    {
     "data": {
      "text/html": [
       "<pre>+---------+--------------+-------------------+-----------------------+-------------+</pre>"
      ],
      "text/plain": [
       "+---------+--------------+-------------------+-----------------------+-------------+"
      ]
     },
     "metadata": {},
     "output_type": "display_data"
    },
    {
     "data": {
      "text/html": [
       "<pre>Optimization Complete: Maximum number of passes through the data reached.</pre>"
      ],
      "text/plain": [
       "Optimization Complete: Maximum number of passes through the data reached."
      ]
     },
     "metadata": {},
     "output_type": "display_data"
    },
    {
     "data": {
      "text/html": [
       "<pre>Computing final objective value and training RMSE.</pre>"
      ],
      "text/plain": [
       "Computing final objective value and training RMSE."
      ]
     },
     "metadata": {},
     "output_type": "display_data"
    },
    {
     "data": {
      "text/html": [
       "<pre>       Final objective value: 5.59983e-05</pre>"
      ],
      "text/plain": [
       "       Final objective value: 5.59983e-05"
      ]
     },
     "metadata": {},
     "output_type": "display_data"
    },
    {
     "data": {
      "text/html": [
       "<pre>       Final training RMSE: 0.0074832</pre>"
      ],
      "text/plain": [
       "       Final training RMSE: 0.0074832"
      ]
     },
     "metadata": {},
     "output_type": "display_data"
    }
   ],
   "source": [
    "rec = gl.recommender.factorization_recommender.create(sf, target='rating',\n",
    "                                                      num_factors=1,\n",
    "                                                     solver='sgd',\n",
    "                                                     max_iterations=5000,\n",
    "                                                     regularization=1e-12,\n",
    "                                                     linear_regularization=1e-12,\n",
    "                                                     sgd_convergence_threshold=1e-10,\n",
    "                                                     sgd_step_size=1)"
   ]
  },
  {
   "cell_type": "code",
   "execution_count": 537,
   "metadata": {},
   "outputs": [
    {
     "data": {
      "text/plain": [
       "0.0074831990302293358"
      ]
     },
     "execution_count": 537,
     "metadata": {},
     "output_type": "execute_result"
    }
   ],
   "source": [
    "np.sqrt(np.mean(np.array(rec.predict(sf) - sf['rating'])**2))"
   ]
  },
  {
   "cell_type": "markdown",
   "metadata": {},
   "source": [
    "Is this the best we can do?  Let's compare it to another recommender library, Nicolas Hug's scikit-surprise."
   ]
  },
  {
   "cell_type": "code",
   "execution_count": 538,
   "metadata": {
    "collapsed": true
   },
   "outputs": [],
   "source": [
    "from surprise import SVD, Dataset, Reader, evaluate"
   ]
  },
  {
   "cell_type": "code",
   "execution_count": 539,
   "metadata": {
    "collapsed": true
   },
   "outputs": [],
   "source": [
    "sf['user_id','item_id','rating'].export_csv('sf.csv',header=True,delimiter='\\t')"
   ]
  },
  {
   "cell_type": "code",
   "execution_count": 540,
   "metadata": {
    "collapsed": true
   },
   "outputs": [],
   "source": [
    "reader = Reader(line_format='user item rating', sep='\\t', skip_lines=1)"
   ]
  },
  {
   "cell_type": "code",
   "execution_count": 541,
   "metadata": {
    "collapsed": true
   },
   "outputs": [],
   "source": [
    "surprise_sf = Dataset.load_from_file('sf.csv', reader=reader)\n",
    "surprise_sf_train = surprise_sf.build_full_trainset()\n",
    "surprise_sf_test = surprise_sf_train.build_testset()"
   ]
  },
  {
   "cell_type": "markdown",
   "metadata": {},
   "source": [
    "The hyperparameters I set below are the same as the ones I used for graphlab's recommender, except I set the learning rate (\"lr_all\") to 0.1.  Surprise is just doing vanilla SGD with a fixed learning rate."
   ]
  },
  {
   "cell_type": "code",
   "execution_count": 552,
   "metadata": {
    "collapsed": true
   },
   "outputs": [],
   "source": [
    "svd = SVD(n_factors=1, reg_all=1e-12, n_epochs=5000, lr_all=1e-1)\n",
    "svd.train(surprise_sf_train)"
   ]
  },
  {
   "cell_type": "code",
   "execution_count": 553,
   "metadata": {},
   "outputs": [
    {
     "data": {
      "text/plain": [
       "3.4100570591393541e-07"
      ]
     },
     "execution_count": 553,
     "metadata": {},
     "output_type": "execute_result"
    }
   ],
   "source": [
    "preds = [svd.predict(s[0], s[1], r_ui=s[2], clip=False) for s in surprise_sf_test]\n",
    "#preds\n",
    "np.sqrt(np.mean(np.array([p.est - p.r_ui for p in preds])**2))"
   ]
  },
  {
   "cell_type": "markdown",
   "metadata": {},
   "source": [
    "Surprise's RMSE is between 5 and 6 orders of magnitude better:"
   ]
  },
  {
   "cell_type": "code",
   "execution_count": 557,
   "metadata": {},
   "outputs": [
    {
     "data": {
      "text/plain": [
       "4.5569509047721358e-05"
      ]
     },
     "execution_count": 557,
     "metadata": {},
     "output_type": "execute_result"
    }
   ],
   "source": [
    "rmse_gl = np.sqrt(np.mean(np.array(rec.predict(sf) - sf['rating'])**2))\n",
    "rmse_surprise = np.sqrt(np.mean(np.array([p.est - p.r_ui for p in preds])**2))\n",
    "\n",
    "rmse_surprise / rmse_gl"
   ]
  },
  {
   "cell_type": "markdown",
   "metadata": {},
   "source": [
    "Note that this is not just a case of bad performance in a constructed toy problem.  I originally looked into the above because Surprise outperformed graphlab's recommender a great deal on some real data I was using, and for the same apparent reason."
   ]
  }
 ],
 "metadata": {
  "kernelspec": {
   "display_name": "Python 2",
   "language": "python",
   "name": "python2"
  },
  "language_info": {
   "codemirror_mode": {
    "name": "ipython",
    "version": 2
   },
   "file_extension": ".py",
   "mimetype": "text/x-python",
   "name": "python",
   "nbconvert_exporter": "python",
   "pygments_lexer": "ipython2",
   "version": "2.7.13"
  }
 },
 "nbformat": 4,
 "nbformat_minor": 2
}
